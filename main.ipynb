{
  "nbformat": 4,
  "nbformat_minor": 0,
  "metadata": {
    "colab": {
      "provenance": [],
      "authorship_tag": "ABX9TyPWHK9IT8YstkkuQWRcmjY/",
      "include_colab_link": true
    },
    "kernelspec": {
      "name": "python3",
      "display_name": "Python 3"
    },
    "language_info": {
      "name": "python"
    }
  },
  "cells": [
    {
      "cell_type": "markdown",
      "metadata": {
        "id": "view-in-github",
        "colab_type": "text"
      },
      "source": [
        "<a href=\"https://colab.research.google.com/github/usernamenameuserusername/mts_ai/blob/main/main.ipynb\" target=\"_parent\"><img src=\"https://colab.research.google.com/assets/colab-badge.svg\" alt=\"Open In Colab\"/></a>"
      ]
    },
    {
      "cell_type": "code",
      "source": [
        "from sklearn.feature_extraction.text import CountVectorizer\n",
        "from xgboost import XGBClassifier\n",
        "import pandas as pd\n",
        "\n",
        "# Пути к данным\n",
        "train_data_path = '/content/train'\n",
        "train_labels_path = '/content/train_labels.csv'\n",
        "test_data_path = '/content/test'\n",
        "\n",
        "# Загрузка меток обучающих данных\n",
        "train_labels = pd.read_csv(train_labels_path)\n",
        "\n",
        "# Чтение файлов обучающих данных\n",
        "train_data = []\n",
        "for i in range(10000, 13292):\n",
        "    file_path = f'{train_data_path}/script_{i}.txt'\n",
        "    with open(file_path, 'r') as file:\n",
        "        content = file.read()\n",
        "        train_data.append(content)\n",
        "\n",
        "# Создание объекта CountVectorizer\n",
        "vectorizer = CountVectorizer()\n",
        "\n",
        "# Векторизация обучающих данных\n",
        "X = vectorizer.fit_transform(train_data)\n",
        "y = train_labels['label']\n",
        "\n",
        "# Создание и обучение модели XGBoost с настроенными параметрами\n",
        "model = XGBClassifier(n_estimators=200, learning_rate=0.1, max_depth=5, subsample=0.8)\n",
        "model.fit(X, y)\n",
        "\n",
        "# Чтение файлов тестовых данных\n",
        "test_data = []\n",
        "test_ids = []\n",
        "for i in range(13292, 14115):\n",
        "    file_path = f'{test_data_path}/script_{i}.txt'\n",
        "    with open(file_path, 'r') as file:\n",
        "        content = file.read()\n",
        "        test_data.append(content)\n",
        "        test_ids.append(str(i-13292))\n",
        "\n",
        "# Векторизация тестовых данных\n",
        "X_test = vectorizer.transform(test_data)\n",
        "\n",
        "# Прогнозирование на тестовых данных\n",
        "predictions = model.predict(X_test)\n",
        "\n",
        "# Преобразование столбца 'id' в строковый тип\n",
        "test_ids = [str(id) for id in test_ids]\n",
        "\n",
        "# Создание DataFrame с предсказаниями\n",
        "submission_df = pd.DataFrame({'id': test_ids, 'label': predictions})\n",
        "\n",
        "# Преобразование столбца 'id' в строковый тип\n",
        "submission_df['id'] = submission_df['id'].astype(str)\n",
        "\n",
        "# Сохранение предсказаний в файл CSV без столбца индексов\n",
        "submission_df.to_csv('/content/submission.csv', index=False)"
      ],
      "metadata": {
        "id": "ZukVU1YEbD0S"
      },
      "execution_count": null,
      "outputs": []
    },
    {
      "cell_type": "code",
      "source": [
        "# Оценка точности модели на обучающих данных\n",
        "train_accuracy = model.score(X, y)\n",
        "print(\"Train Accuracy:\", train_accuracy)\n"
      ],
      "metadata": {
        "colab": {
          "base_uri": "https://localhost:8080/"
        },
        "id": "RZFTo45RB8lC",
        "outputId": "15341141-5751-49c7-f06c-2a947eb91139"
      },
      "execution_count": null,
      "outputs": [
        {
          "output_type": "stream",
          "name": "stdout",
          "text": [
            "Train Accuracy: 0.9996962332928311\n"
          ]
        }
      ]
    },
    {
      "cell_type": "code",
      "source": [],
      "metadata": {
        "id": "c2CAjGQcEXnb"
      },
      "execution_count": null,
      "outputs": []
    }
  ]
}